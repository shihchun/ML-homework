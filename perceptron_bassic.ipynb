{
  "nbformat": 4,
  "nbformat_minor": 0,
  "metadata": {
    "colab": {
      "name": " perceptron_bassic.ipynb",
      "provenance": [],
      "collapsed_sections": [],
      "include_colab_link": true
    },
    "kernelspec": {
      "name": "python3",
      "display_name": "Python 3"
    }
  },
  "cells": [
    {
      "cell_type": "markdown",
      "metadata": {
        "id": "view-in-github",
        "colab_type": "text"
      },
      "source": [
        "<a href=\"https://colab.research.google.com/github/shihchun/ML-homework/blob/master/perceptron_bassic.ipynb\" target=\"_parent\"><img src=\"https://colab.research.google.com/assets/colab-badge.svg\" alt=\"Open In Colab\"/></a>"
      ]
    },
    {
      "cell_type": "markdown",
      "metadata": {
        "id": "5Kjs0lV11eKN",
        "colab_type": "text"
      },
      "source": [
        "## 單層感知機\n",
        "\n",
        "[quadtree](https://github.com/fogleman/Quads)\n",
        "希望達到分類情況如下：\n",
        "\n",
        "[code from ](https://kknews.cc/zh-tw/news/6892rpl.html)"
      ]
    },
    {
      "cell_type": "code",
      "metadata": {
        "id": "C6KUwypgtkiO",
        "colab_type": "code",
        "outputId": "b2160983-c21f-49c9-a302-eb0ae39ea0e8",
        "colab": {
          "base_uri": "https://localhost:8080/",
          "height": 269
        }
      },
      "source": [
        "# 產生數據\n",
        "import random\n",
        "import numpy as np\n",
        "import matplotlib.pyplot as plt\n",
        "\n",
        "k = []; \n",
        "for _ in range(10):\n",
        "  x = random.uniform(1, 4)\n",
        "  y = random.uniform(1, 4)\n",
        "  k.append( tuple( (x, y) ) )\n",
        "  pass\n",
        "x = k ; del  k;\n",
        "\n",
        "x = [(1,1), (0.9,1.8), (2.3,1), (2.8,1.5), (1.3,4),(5,4.6), (4.2,5.1), (5.1, 6.6), (6.2,5.6), (4.6,5.2)]\n",
        "y = [-1,-1,-1,-1,-1,1,1,1,1,1] # label 標記\n",
        "\n",
        "mk = []; cs = [];\n",
        "\n",
        "for _ in y:\n",
        "  if _ > 0:\n",
        "    mk.append('o')\n",
        "    cs.append('red')\n",
        "  else:\n",
        "    mk.append('x')\n",
        "    cs.append('blue')\n",
        "    pass\n",
        "  pass\n",
        "\n",
        "x1, x2  = zip(*x) # 將元組(x,y)拆成[x1,x2,x3,,,], [y1,y2,y3,,,]\n",
        "\n",
        "for _mk, _cs, _x1, _x2 in zip(mk, cs, x1, x2):\n",
        "  plt.scatter(_x1, _x2,c = _cs, s = 100)\n",
        "  pass\n",
        "plt.text(6.8,6.8,r'+1')\n",
        "plt.text(0.2,0.2,r'-1')\n",
        "plt.axis([0,8,0,8]) # 顯示區間[0,8]\n",
        "\n",
        "# 隨便畫一條線（要讓感知機找到可以分類的一條線）\n",
        "plt.plot([0,8],[6,3], 'k-', color = 'g') \n",
        "plt.show()"
      ],
      "execution_count": 0,
      "outputs": [
        {
          "output_type": "display_data",
          "data": {
            "image/png": "[encoded data removed]",
            "text/plain": [
              "<Figure size 432x288 with 1 Axes>"
            ]
          },
          "metadata": {
            "tags": []
          }
        }
      ]
    },
    {
      "cell_type": "markdown",
      "metadata": {
        "id": "UQRuXMFf1lPU",
        "colab_type": "text"
      },
      "source": [
        "# 開始疊代(分類)\n",
        "\n",
        "其中特性： 單層感知機***不能處理xor的資料***\n",
        "\n",
        "\n",
        "設定閥值 threshold，就是sign()符號函數\n",
        "\n",
        "$$\n",
        "a=\\sum_{d=1}^{D} w_{d} x_{d}\n",
        "$$\n",
        "\n",
        "![](https://upload.wikimedia.org/wikipedia/commons/c/c0/Signum_function.png)\n",
        "\n",
        "如果 $a > threshold$，則判定輸入為正例。如果 $a < threshold$，則判定輸入為負例。對於 $a == threshold$的情況，認為是特殊情況，不予考慮（raise 拋出）。\n",
        "\n",
        "$$\n",
        "\\begin{aligned} h(\\mathbf{x}) &=\\operatorname{sign}\\left(\\left(\\sum_{i=1}^{d} w_{i} x_{i}\\right)-\\text { threshold }\\right) \\\\ &=\\operatorname{sign}\\left(\\left(\\sum_{i=1}^{d} w_{i} x_{i}\\right)+\\underbrace{(-\\text { threshold })}_{w_{0}} \\cdot \\underbrace{(+1)}_{x_{0}}\\right) \\text { 跟label不相同時，加上前一個狀態 } \\\\ &=\\operatorname{sign}\\left(\\sum_{i=0}^{d} w_{i} x_{i}\\right) \\\\ &=\\operatorname{sign}\\left(\\mathrm{w}^{T} \\mathbf{x}\\right) \\end{aligned}\n",
        "$$\n",
        "\n",
        "然後\n",
        "\n",
        "![](https://user-images.githubusercontent.com/29697421/35953622-735e0afe-0cc0-11e8-9c5f-85e1efb63241.png)\n",
        "\n",
        "我們先取一個隨機向量$W$，與現有的數據$X[i]$做點乘（elementwize multiply），取得結果的符號。\n",
        "如果符號符合我們的預期的話，則continue。否則就要對$W$進行修正。\n",
        "修正的方式是$W += y \\times X[i]$，每一次修正都是減少現有向量$W$與向量$y \\times X[i]$的夾角，從而調整答案的正確性"
      ]
    },
    {
      "cell_type": "code",
      "metadata": {
        "id": "fDrxfsuh1klD",
        "colab_type": "code",
        "outputId": "890e3de7-c528-4138-a182-6c7db50760a2",
        "colab": {
          "base_uri": "https://localhost:8080/",
          "height": 1000
        }
      },
      "source": [
        "# 產生數據\n",
        "import numpy as np\n",
        "import matplotlib.pyplot as plt\n",
        "import random\n",
        "\n",
        "x = [(1,1), (0.9,1.8), (2.3,1), (2.8,1.5), (1.3,4),(5,4.6), (4.2,5.1), (5.1, 6.6), (6.2,5.6), (4.6,5.2)]\n",
        "y = [-1,-1,-1,-1,-1,1,1,1,1,1] # label 標記\n",
        "\n",
        "x1, x2  = zip(*x) # 將元組(x,y)拆成[x1,x2,x3,,,], [y1,y2,y3,,,]\n",
        "\n",
        "mk =  [0,0,0,0,0,0,0,0,0,0]\n",
        "cs =  [0,0,0,0,0,0,0,0,0,0]\n",
        "\n",
        "w1, w2, b = 0, 0, 0 # w1-->x, w2-->y, b-->bias\n",
        "\n",
        "for _ in range(3):\n",
        "  for i in range(10): # 10個數據train data，帶入訓練出新的 w1 x方向, w2 y方向, b\n",
        "    s = w1 * x1[i] + w2 * x2[i] +b\n",
        "    if (s >= 0 and y[i] <= 0) or ( s <= 0 and y[i] > 0 ): # s>0如果不等於label，s<=0如果不等于label\n",
        "      # 加上前一個狀態的 wt = y*x，為下一個狀態的 w權重\n",
        "      w1 += y[i] * x1[i]\n",
        "      w2 += y[i] * x2[i]\n",
        "      b += y[i]\n",
        "\n",
        "  for i in range(10): # >0 <0 sign(x) 符號函數來定義並分類\n",
        "    s = w1* x1[i] + w2 * x2[i] + b # sign(w*x+b) 有x、y兩個軸\n",
        "    if s > 0:\n",
        "      cs[i] = 'red'\n",
        "      mk[i] = 'x'\n",
        "    if s < 0:\n",
        "      cs[i] = 'blue'\n",
        "      mk[i] = 'o'\n",
        "  plt.figure()\n",
        "  # zip(mk, cs, x1, x2) 包成，ans = [mk[i], cs[i], x1[i], x2[i]]\n",
        "  for _mk, _cs, _x1, _x2 in zip(mk, cs, x1, x2): \n",
        "    plt.title(\"iteration of \"+str(_+1))\n",
        "    plt.scatter(_x1, _x2, c = _cs, s = 100)\n",
        "\n",
        "  # 求x=0, x=8時，w1* x1[i] + w2 * x2[i] + b的解。x1 = x = 0,8\n",
        "  s1 = (0, -b/w2) # x==0的點\n",
        "  s2 = (8, (-b-8*w1)/w2 ) # x==8的點\n",
        "  # 兩點畫線\n",
        "  plt.plot( [ s1[0], s2[0] ], [ s1[1], s2[1] ], 'k-', color = 'g' )\n",
        "  print(\"iteration of \"+str(_+1), \"\\n\")\n",
        "  print(\" w1: %s \\n w2: %s \\n b: %s \\n\" %(w1,w2,b) )"
      ],
      "execution_count": 0,
      "outputs": [
        {
          "output_type": "stream",
          "text": [
            "iteration of 1 \n",
            "\n",
            " w1: 4 \n",
            " w2: 3.5999999999999996 \n",
            " b: 0 \n",
            "\n",
            "iteration of 2 \n",
            "\n",
            " w1: 4.800000000000001 \n",
            " w2: 4.3999999999999995 \n",
            " b: -2 \n",
            "\n",
            "iteration of 3 \n",
            "\n",
            " w1: 0.600000000000001 \n",
            " w2: 0.5999999999999994 \n",
            " b: -5 \n",
            "\n"
          ],
          "name": "stdout"
        },
        {
          "output_type": "display_data",
          "data": {
            "image/png": "[encoded data removed]",
            "text/plain": [
              "<Figure size 432x288 with 1 Axes>"
            ]
          },
          "metadata": {
            "tags": []
          }
        },
        {
          "output_type": "display_data",
          "data": {
            "image/png": "[encoded data removed]",
            "text/plain": [
              "<Figure size 432x288 with 1 Axes>"
            ]
          },
          "metadata": {
            "tags": []
          }
        },
        {
          "output_type": "display_data",
          "data": {
            "image/png": "[encoded data removed]",
            "text/plain": [
              "<Figure size 432x288 with 1 Axes>"
            ]
          },
          "metadata": {
            "tags": []
          }
        }
      ]
    },
    {
      "cell_type": "markdown",
      "metadata": {
        "id": "j2yyW-tuDShZ",
        "colab_type": "text"
      },
      "source": [
        "# 丟進隨機變數\n",
        "\n",
        "訓練 100次"
      ]
    },
    {
      "cell_type": "code",
      "metadata": {
        "id": "EeLP_ZJfCwgI",
        "colab_type": "code",
        "outputId": "3871b32d-d834-4232-867c-fef1b7ed76c7",
        "colab": {
          "base_uri": "https://localhost:8080/",
          "height": 437
        }
      },
      "source": [
        "# 產生數據\n",
        "import numpy as np\n",
        "import matplotlib.pyplot as plt\n",
        "import random\n",
        "\n",
        "x = [(1,1), (0.9,1.8), (2.3,1), (2.8,1.5), (1.3,4),(5,4.6), (4.2,5.1), (5.1, 6.6), (6.2,5.6), (4.6,5.2)]\n",
        "y = [-1,-1,-1,-1,-1,1,1,1,1,1] # label 標記\n",
        "\n",
        "# 若輸入亂數\n",
        "k = []\n",
        "for _ in range(100):\n",
        "  k1 = random.uniform(1,8)\n",
        "  k2 = random.uniform(1,8)\n",
        "  k.append( tuple((k1,k2)))\n",
        "print(x,'\\n',k)\n",
        "x=k\n",
        "x1, x2  = zip(*x) # 將元組(x,y)拆成[x1,x2,x3,,,], [y1,y2,y3,,,]\n",
        "\n",
        "mk =  [0,0,0,0,0,0,0,0,0,0]\n",
        "cs =  [0,0,0,0,0,0,0,0,0,0]\n",
        "\n",
        "w1, w2, b = 0, 0, 0 # w1-->x, w2-->y, b-->bias\n",
        "\n",
        "for _ in range(100):\n",
        "  for i in range(10): # 10個數據train data，帶入訓練出新的 w1 x方向, w2 y方向, b\n",
        "    s = w1 * x1[i] + w2 * x2[i] +b\n",
        "    if (s >= 0 and y[i] <= 0) or ( s <= 0 and y[i] > 0 ): # s>0如果不等於label，s<=0如果不等于label\n",
        "      # 加上前一個狀態的 wt = y*x，為下一個狀態的 w權重\n",
        "      w1 += y[i] * x1[i]\n",
        "      w2 += y[i] * x2[i]\n",
        "      b += y[i]\n",
        "\n",
        "  for i in range(10): # >0 <0 sign(x) 符號函數來定義並分類\n",
        "    s = w1* x1[i] + w2 * x2[i] + b # sign(w*x+b) 有x、y兩個軸\n",
        "    if s > 0:\n",
        "      cs[i] = 'red'\n",
        "      mk[i] = 'x'\n",
        "    if s < 0:\n",
        "      cs[i] = 'blue'\n",
        "      mk[i] = 'o'\n",
        "\n",
        "  # zip(mk, cs, x1, x2) 包成，ans = [mk[i], cs[i], x1[i], x2[i]]\n",
        "  for _mk, _cs, _x1, _x2 in zip(mk, cs, x1, x2): \n",
        "    plt.title(\"iteration of \"+str(_+1))\n",
        "    plt.scatter(_x1, _x2, c = _cs, s = 100)\n",
        "\n",
        "  if _ ==99:\n",
        "    # 求x=0, x=8時，w1* x1[i] + w2 * x2[i] + b的解。x1 = x = 0,8\n",
        "    s1 = (0, -b/w2) # x==0的點\n",
        "    s2 = (8, (-b-8*w1)/w2 ) # x==8的點\n",
        "    # 兩點畫線\n",
        "    plt.plot( [ s1[0], s2[0] ], [ s1[1], s2[1] ], 'k-', color = 'g' )\n",
        "    print(\"iteration of \"+str(_+1), \"\\n\")\n",
        "    print(\" w1: %s \\n w2: %s \\n b: %s \\n\" %(w1,w2,b) )"
      ],
      "execution_count": 0,
      "outputs": [
        {
          "output_type": "stream",
          "text": [
            "[(1, 1), (0.9, 1.8), (2.3, 1), (2.8, 1.5), (1.3, 4), (5, 4.6), (4.2, 5.1), (5.1, 6.6), (6.2, 5.6), (4.6, 5.2)] \n",
            " [(5.184650392974711, 5.312099016270233), (7.2775999832236185, 5.88519094874187), (5.325582664569669, 2.2448790192784824), (4.31693152628743, 4.470630732008922), (7.416188908365298, 7.3109001428207945), (1.3125318416201468, 4.005949777954224), (2.9381874274755653, 5.407886770050547), (7.528739271482777, 6.324183415325496), (3.484586857579308, 4.396763074149377), (6.269451858765762, 7.263964976773235), (2.401069952443905, 2.446834530817509), (3.586864032312062, 7.3566031683056305), (4.756763345678798, 4.813007032710763), (5.732264280353205, 6.481769331899463), (7.87302794553176, 3.6588192511442785), (7.70415683713854, 6.936040711963689), (5.607589053824128, 2.007032098754619), (3.333710976703596, 1.0241245929545526), (1.8356704247278917, 2.5983437924621215), (1.59376181537564, 5.206699954899337), (6.229857733601137, 7.430892137316933), (1.5708282265445435, 3.402249663573043), (4.779614802962531, 2.287602440710281), (3.5603836346214175, 7.845250419701277), (4.980944112641491, 6.98444948609802), (5.6752834365516565, 4.734678030989369), (3.6894157495282607, 2.590189671154878), (1.6873513365149688, 7.519914569617127), (2.0814988005576556, 5.517694971822895), (2.2690799611600716, 6.6089464217763405), (6.7961654805126575, 7.957569632590764), (3.745145359533251, 3.444368761929509), (1.4324029540976237, 4.475163429044787), (5.990320614427224, 3.0125933478425946), (3.84381381497713, 3.5242266405933256), (7.924203332873912, 4.477409178565676), (1.0472170120500417, 2.2897031407566972), (3.798051115062103, 7.6359210344586295), (7.9363238054273255, 1.4402720916043066), (2.4006577763657795, 1.8749972571984834), (5.9960746657169395, 7.565305736954693), (1.7329681374806238, 2.8436499543484075), (3.701211896654758, 4.818014482025942), (6.551507790899161, 7.582006865188473), (3.7069483747321987, 5.675694175557261), (7.356287892331345, 2.197106063196783), (3.9601858710923032, 7.451918564094372), (2.1378686498999198, 7.567979865344477), (4.670992308143461, 3.8915329906793517), (3.490470803100025, 4.169710913690175), (2.181713863338767, 2.1846217712609075), (6.4932079607659885, 5.12066984859992), (6.69285251160913, 1.4580573482914403), (4.03487596981603, 2.3966026380928027), (6.664725638368224, 4.153162787339328), (6.820729503142935, 3.9421611890002555), (1.5890803549400399, 1.483159462955546), (6.237514152705274, 1.1128052221510576), (7.912728896103654, 1.8022705619400177), (2.0167220158161614, 7.221719102562486), (5.559095921849096, 5.086421665869938), (3.2325610431202088, 7.543043361760965), (5.173982845411839, 1.0877280802460827), (3.688269101944288, 7.498100711063514), (5.061311915913233, 7.861625335262865), (3.496152239606533, 6.151963352840588), (2.0678664628836443, 5.952648062285066), (2.0723194331545622, 6.419115789305497), (4.301437441591839, 2.8331189042087797), (6.817112622014064, 7.543841094306378), (3.0177037370749695, 1.7997459985369448), (5.5835801418226865, 2.5878945002002154), (7.980558467761758, 3.625881102760176), (4.655385617964759, 5.894064576938058), (7.829785658086304, 1.9704827005377734), (7.121813894926866, 5.922869144273093), (5.783714390466365, 6.137054914769942), (1.2692067032446301, 2.8967764202061526), (7.748991914530963, 5.564992429272775), (7.163551664906433, 4.293994788102998), (7.542159401772234, 1.1373267277279353), (4.134728062222836, 5.986151192265263), (4.920474466370825, 4.602206207395055), (4.269641582481058, 6.348481202669166), (4.41270900223384, 3.95334336628723), (5.435189764969983, 1.6940276006257218), (7.301877050227162, 6.762038414353242), (7.683272123998962, 6.912420626823177), (1.9749988987769709, 3.8961360064220276), (1.3208249074111187, 4.5448834897603625), (5.448926116397823, 5.206577316232862), (4.135760190904453, 1.6400815973081921), (3.7907310154691447, 1.0493279166446876), (6.472026863941764, 2.766906090378423), (1.8176319210471785, 3.5059197467430403), (6.860343806828699, 2.6149150747551966), (7.531021775360333, 4.633438939531843), (2.60957964358479, 3.852943544562931), (4.117150305834928, 6.4936578373973886), (6.078583043275896, 3.5794010315250695)]\n",
            "iteration of 100 \n",
            "\n",
            " w1: -7.778505448292002 \n",
            " w2: 21.082975062719832 \n",
            " b: -16 \n",
            "\n"
          ],
          "name": "stdout"
        },
        {
          "output_type": "display_data",
          "data": {
            "image/png": "[encoded data removed]",
            "text/plain": [
              "<Figure size 432x288 with 1 Axes>"
            ]
          },
          "metadata": {
            "tags": []
          }
        }
      ]
    }
  ]
}