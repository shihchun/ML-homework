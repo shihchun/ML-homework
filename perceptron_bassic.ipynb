{
  "nbformat": 4,
  "nbformat_minor": 0,
  "metadata": {
    "colab": {
      "name": " perceptron_bassic.ipynb",
      "provenance": [],
      "collapsed_sections": [],
      "include_colab_link": true
    },
    "kernelspec": {
      "name": "python3",
      "display_name": "Python 3"
    }
  },
  "cells": [
    {
      "cell_type": "markdown",
      "metadata": {
        "id": "view-in-github",
        "colab_type": "text"
      },
      "source": [
        "<a href=\"https://colab.research.google.com/github/shihchun/ML-homework/blob/master/perceptron_bassic.ipynb\" target=\"_parent\"><img src=\"https://colab.research.google.com/assets/colab-badge.svg\" alt=\"Open In Colab\"/></a>"
      ]
    },
    {
      "cell_type": "markdown",
      "metadata": {
        "id": "5Kjs0lV11eKN",
        "colab_type": "text"
      },
      "source": [
        "## 單層感知機\n",
        "\n",
        "[quadtree](https://github.com/fogleman/Quads)\n",
        "希望達到分類情況如下：\n",
        "\n",
        "[code from ](https://kknews.cc/zh-tw/news/6892rpl.html)"
      ]
    },
    {
      "cell_type": "code",
      "metadata": {
        "id": "C6KUwypgtkiO",
        "colab_type": "code",
        "outputId": "b2160983-c21f-49c9-a302-eb0ae39ea0e8",
        "colab": {
          "base_uri": "https://localhost:8080/",
          "height": 269
        }
      },
      "source": [
        "# 產生數據\n",
        "import random\n",
        "import numpy as np\n",
        "import matplotlib.pyplot as plt\n",
        "\n",
        "k = []; \n",
        "for _ in range(10):\n",
        "  x = random.uniform(1, 4)\n",
        "  y = random.uniform(1, 4)\n",
        "  k.append( tuple( (x, y) ) )\n",
        "  pass\n",
        "x = k ; del  k;\n",
        "\n",
        "x = [(1,1), (0.9,1.8), (2.3,1), (2.8,1.5), (1.3,4),(5,4.6), (4.2,5.1), (5.1, 6.6), (6.2,5.6), (4.6,5.2)]\n",
        "y = [-1,-1,-1,-1,-1,1,1,1,1,1] # label 標記\n",
        "\n",
        "mk = []; cs = [];\n",
        "\n",
        "for _ in y:\n",
        "  if _ > 0:\n",
        "    mk.append('o')\n",
        "    cs.append('red')\n",
        "  else:\n",
        "    mk.append('x')\n",
        "    cs.append('blue')\n",
        "    pass\n",
        "  pass\n",
        "\n",
        "x1, x2  = zip(*x) # 將元組(x,y)拆成[x1,x2,x3,,,], [y1,y2,y3,,,]\n",
        "\n",
        "for _mk, _cs, _x1, _x2 in zip(mk, cs, x1, x2):\n",
        "  plt.scatter(_x1, _x2,c = _cs, s = 100)\n",
        "  pass\n",
        "plt.text(6.8,6.8,r'+1')\n",
        "plt.text(0.2,0.2,r'-1')\n",
        "plt.axis([0,8,0,8]) # 顯示區間[0,8]\n",
        "\n",
        "# 隨便畫一條線（要讓感知機找到可以分類的一條線）\n",
        "plt.plot([0,8],[6,3], 'k-', color = 'g') \n",
        "plt.show()"
      ],
      "execution_count": 0,
      "outputs": [
        {
          "output_type": "display_data",
          "data": {
            "image/png": "[encoded data removed]",
            "text/plain": [
              "<Figure size 432x288 with 1 Axes>"
            ]
          },
          "metadata": {
            "tags": []
          }
        }
      ]
    },
    {
      "cell_type": "markdown",
      "metadata": {
        "id": "UQRuXMFf1lPU",
        "colab_type": "text"
      },
      "source": [
        "# 開始疊代(分類)\n",
        "\n",
        "其中特性： 單層感知機***不能處理xor的資料***\n",
        "\n",
        "\n",
        "設定閥值 threshold，就是sign()符號函數\n",
        "\n",
        "$$\n",
        "a=\\sum_{d=1}^{D} w_{d} x_{d}\n",
        "$$\n",
        "\n",
        "![](https://upload.wikimedia.org/wikipedia/commons/c/c0/Signum_function.png)\n",
        "\n",
        "如果 $a > threshold$，則判定輸入為正例。如果 $a < threshold$，則判定輸入為負例。對於 $a == threshold$的情況，認為是特殊情況，不予考慮（raise 拋出）。\n",
        "\n",
        "$$\n",
        "\\begin{aligned} h(\\mathbf{x}) &=\\operatorname{sign}\\left(\\left(\\sum_{i=1}^{d} w_{i} x_{i}\\right)-\\text { threshold }\\right) \\\\ &=\\operatorname{sign}\\left(\\left(\\sum_{i=1}^{d} w_{i} x_{i}\\right)+\\underbrace{(-\\text { threshold })}_{w_{0}} \\cdot \\underbrace{(+1)}_{x_{0}}\\right) \\text { 跟label不相同時，加上前一個狀態 } \\\\ &=\\operatorname{sign}\\left(\\sum_{i=0}^{d} w_{i} x_{i}\\right) \\\\ &=\\operatorname{sign}\\left(\\mathrm{w}^{T} \\mathbf{x}\\right) \\end{aligned}\n",
        "$$\n",
        "\n",
        "然後\n",
        "\n",
        "![](https://user-images.githubusercontent.com/29697421/35953622-735e0afe-0cc0-11e8-9c5f-85e1efb63241.png)\n",
        "\n",
        "我們先取一個隨機向量$W$，與現有的數據$X[i]$做點乘（elementwize multiply），取得結果的符號。\n",
        "如果符號符合我們的預期的話，則continue。否則就要對$W$進行修正。\n",
        "修正的方式是$W += y \\times X[i]$，每一次修正都是減少現有向量$W$與向量$y \\times X[i]$的夾角，從而調整答案的正確性"
      ]
    },
    {
      "cell_type": "code",
      "metadata": {
        "id": "fDrxfsuh1klD",
        "colab_type": "code",
        "outputId": "890e3de7-c528-4138-a182-6c7db50760a2",
        "colab": {
          "base_uri": "https://localhost:8080/",
          "height": 1000
        }
      },
      "source": [
        "# 產生數據\n",
        "import numpy as np\n",
        "import matplotlib.pyplot as plt\n",
        "import random\n",
        "\n",
        "x = [(1,1), (0.9,1.8), (2.3,1), (2.8,1.5), (1.3,4),(5,4.6), (4.2,5.1), (5.1, 6.6), (6.2,5.6), (4.6,5.2)]\n",
        "y = [-1,-1,-1,-1,-1,1,1,1,1,1] # label 標記\n",
        "\n",
        "x1, x2  = zip(*x) # 將元組(x,y)拆成[x1,x2,x3,,,], [y1,y2,y3,,,]\n",
        "\n",
        "mk =  [0,0,0,0,0,0,0,0,0,0]\n",
        "cs =  [0,0,0,0,0,0,0,0,0,0]\n",
        "\n",
        "w1, w2, b = 0, 0, 0 # w1-->x, w2-->y, b-->bias\n",
        "\n",
        "for _ in range(3):\n",
        "  for i in range(10): # 10個數據train data，帶入訓練出新的 w1 x方向, w2 y方向, b\n",
        "    s = w1 * x1[i] + w2 * x2[i] +b\n",
        "    if (s >= 0 and y[i] <= 0) or ( s <= 0 and y[i] > 0 ): # s>0如果不等於label，s<=0如果不等于label\n",
        "      # 加上前一個狀態的 wt = y*x，為下一個狀態的 w權重\n",
        "      w1 += y[i] * x1[i]\n",
        "      w2 += y[i] * x2[i]\n",
        "      b += y[i]\n",
        "\n",
        "  for i in range(10): # >0 <0 sign(x) 符號函數來定義並分類\n",
        "    s = w1* x1[i] + w2 * x2[i] + b # sign(w*x+b) 有x、y兩個軸\n",
        "    if s > 0:\n",
        "      cs[i] = 'red'\n",
        "      mk[i] = 'x'\n",
        "    if s < 0:\n",
        "      cs[i] = 'blue'\n",
        "      mk[i] = 'o'\n",
        "  plt.figure()\n",
        "  # zip(mk, cs, x1, x2) 包成，ans = [mk[i], cs[i], x1[i], x2[i]]\n",
        "  for _mk, _cs, _x1, _x2 in zip(mk, cs, x1, x2): \n",
        "    plt.title(\"iteration of \"+str(_+1))\n",
        "    plt.scatter(_x1, _x2, c = _cs, s = 100)\n",
        "\n",
        "  # 求x=0, x=8時，w1* x1[i] + w2 * x2[i] + b的解。x1 = x = 0,8\n",
        "  s1 = (0, -b/w2) # x==0的點\n",
        "  s2 = (8, (-b-8*w1)/w2 ) # x==8的點\n",
        "  # 兩點畫線\n",
        "  plt.plot( [ s1[0], s2[0] ], [ s1[1], s2[1] ], 'k-', color = 'g' )\n",
        "  print(\"iteration of \"+str(_+1), \"\\n\")\n",
        "  print(\" w1: %s \\n w2: %s \\n b: %s \\n\" %(w1,w2,b) )"
      ],
      "execution_count": 0,
      "outputs": [
        {
          "output_type": "stream",
          "text": [
            "iteration of 1 \n",
            "\n",
            " w1: 4 \n",
            " w2: 3.5999999999999996 \n",
            " b: 0 \n",
            "\n",
            "iteration of 2 \n",
            "\n",
            " w1: 4.800000000000001 \n",
            " w2: 4.3999999999999995 \n",
            " b: -2 \n",
            "\n",
            "iteration of 3 \n",
            "\n",
            " w1: 0.600000000000001 \n",
            " w2: 0.5999999999999994 \n",
            " b: -5 \n",
            "\n"
          ],
          "name": "stdout"
        },
        {
          "output_type": "display_data",
          "data": {
            "image/png": "[encoded data removed]",
            "text/plain": [
              "<Figure size 432x288 with 1 Axes>"
            ]
          },
          "metadata": {
            "tags": []
          }
        },
        {
          "output_type": "display_data",
          "data": {
            "image/png": "[encoded data removed]",
            "text/plain": [
              "<Figure size 432x288 with 1 Axes>"
            ]
          },
          "metadata": {
            "tags": []
          }
        },
        {
          "output_type": "display_data",
          "data": {
            "image/png": "[encoded data removed]",
            "text/plain": [
              "<Figure size 432x288 with 1 Axes>"
            ]
          },
          "metadata": {
            "tags": []
          }
        }
      ]
    },
    {
      "cell_type": "markdown",
      "metadata": {
        "id": "j2yyW-tuDShZ",
        "colab_type": "text"
      },
      "source": [
        "# 丟進隨機變數\n",
        "\n",
        "訓練 100次"
      ]
    },
    {
      "cell_type": "code",
      "metadata": {
        "id": "EeLP_ZJfCwgI",
        "colab_type": "code",
        "outputId": "206a72aa-71c4-4c2e-bf3d-f9496130545c",
        "colab": {
          "base_uri": "https://localhost:8080/",
          "height": 383
        }
      },
      "source": [
        "# 產生數據\n",
        "import numpy as np\n",
        "import matplotlib.pyplot as plt\n",
        "import random\n",
        "\n",
        "x = [(1,1), (0.9,1.8), (2.3,1), (2.8,1.5), (1.3,4),(5,4.6), (4.2,5.1), (5.1, 6.6), (6.2,5.6), (4.6,5.2)]\n",
        "y = [-1,-1,-1,-1,-1,1,1,1,1,1] # label 標記\n",
        "\n",
        "# 若輸入亂數\n",
        "k = []\n",
        "for _ in range(100):\n",
        "  k1 = random.uniform(1,8)\n",
        "  k2 = random.uniform(1,8)\n",
        "  k.append( tuple((k1,k2)))\n",
        "# print(x,'\\n',k)\n",
        "x=k\n",
        "x1, x2  = zip(*x) # 將元組(x,y)拆成[x1,x2,x3,,,], [y1,y2,y3,,,]\n",
        "\n",
        "mk =  [0,0,0,0,0,0,0,0,0,0]\n",
        "cs =  [0,0,0,0,0,0,0,0,0,0]\n",
        "\n",
        "w1, w2, b = 0, 0, 0 # w1-->x, w2-->y, b-->bias\n",
        "\n",
        "for _ in range(100):\n",
        "  for i in range(10): # 10個數據train data，帶入訓練出新的 w1 x方向, w2 y方向, b\n",
        "    s = w1 * x1[i] + w2 * x2[i] +b\n",
        "    if (s >= 0 and y[i] <= 0) or ( s <= 0 and y[i] > 0 ): # s>0如果不等於label，s<=0如果不等于label\n",
        "      # 加上前一個狀態的 wt = y*x，為下一個狀態的 w權重\n",
        "      w1 += y[i] * x1[i]\n",
        "      w2 += y[i] * x2[i]\n",
        "      b += y[i]\n",
        "\n",
        "  for i in range(10): # >0 <0 sign(x) 符號函數來定義並分類\n",
        "    s = w1* x1[i] + w2 * x2[i] + b # sign(w*x+b) 有x、y兩個軸\n",
        "    if s > 0:\n",
        "      cs[i] = 'red'\n",
        "      mk[i] = 'x'\n",
        "    if s < 0:\n",
        "      cs[i] = 'blue'\n",
        "      mk[i] = 'o'\n",
        "\n",
        "  # zip(mk, cs, x1, x2) 包成，ans = [mk[i], cs[i], x1[i], x2[i]]\n",
        "  for _mk, _cs, _x1, _x2 in zip(mk, cs, x1, x2): \n",
        "    plt.title(\"iteration of \"+str(_+1))\n",
        "    plt.scatter(_x1, _x2, c = _cs, s = 100)\n",
        "\n",
        "  if _ ==99:\n",
        "    # 求x=0, x=8時，w1* x1[i] + w2 * x2[i] + b的解。x1 = x = 0,8\n",
        "    s1 = (0, -b/w2) # x==0的點\n",
        "    s2 = (8, (-b-8*w1)/w2 ) # x==8的點\n",
        "    # 兩點畫線\n",
        "    plt.plot( [ s1[0], s2[0] ], [ s1[1], s2[1] ], 'k-', color = 'g' )\n",
        "    print(\"iteration of \"+str(_+1), \"\\n\")\n",
        "    print(\" w1: %s \\n w2: %s \\n b: %s \\n\" %(w1,w2,b) )"
      ],
      "execution_count": 1,
      "outputs": [
        {
          "output_type": "stream",
          "text": [
            "iteration of 100 \n",
            "\n",
            " w1: 14.266378220031605 \n",
            " w2: -4.336038955273545 \n",
            " b: 2 \n",
            "\n"
          ],
          "name": "stdout"
        },
        {
          "output_type": "display_data",
          "data": {
            "image/png": "[encoded data removed]",
            "text/plain": [
              "<Figure size 432x288 with 1 Axes>"
            ]
          },
          "metadata": {
            "tags": []
          }
        }
      ]
    }
  ]
}