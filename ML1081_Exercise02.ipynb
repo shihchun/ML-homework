{
  "nbformat": 4,
  "nbformat_minor": 0,
  "metadata": {
    "colab": {
      "name": "ML1081_Exercise02.ipynb",
      "provenance": [],
      "collapsed_sections": [],
      "include_colab_link": true
    },
    "kernelspec": {
      "name": "python3",
      "display_name": "Python 3"
    }
  },
  "cells": [
    {
      "cell_type": "markdown",
      "metadata": {
        "id": "view-in-github",
        "colab_type": "text"
      },
      "source": [
        "<a href=\"https://colab.research.google.com/github/shihchun/ML-homework/blob/master/ML1081_Exercise02.ipynb\" target=\"_parent\"><img src=\"https://colab.research.google.com/assets/colab-badge.svg\" alt=\"Open In Colab\"/></a>"
      ]
    },
    {
      "cell_type": "markdown",
      "metadata": {
        "id": "_NpRSRphx1MH",
        "colab_type": "text"
      },
      "source": [
        "第二次作業\n",
        "第一題：利用Keras，建立一個類神經網路，辨識MNIST的手寫數字資料。"
      ]
    },
    {
      "cell_type": "markdown",
      "metadata": {
        "id": "89U3a3j62ws1",
        "colab_type": "text"
      },
      "source": [
        "```\n",
        "# [0,9] 的十位數字 \n",
        "# (one hot = True 的編碼處理keras內置解碼器)\n",
        "# （可以用類似python translate() 跟string.maketrans()完成映射編碼的sourcecode）) 大概了解即可\n",
        "# 0: 1000000000\n",
        "# 1: 0100000000\n",
        "# ......\n",
        "```"
      ]
    },
    {
      "cell_type": "markdown",
      "metadata": {
        "id": "IhpkW012ZLU5",
        "colab_type": "text"
      },
      "source": [
        "[範例](https://ithelp.ithome.com.tw/articles/10191404)"
      ]
    },
    {
      "cell_type": "code",
      "metadata": {
        "id": "R-6trfflY5R_",
        "colab_type": "code",
        "outputId": "e5ac4702-2872-46b7-d088-0d1940dfd487",
        "colab": {
          "base_uri": "https://localhost:8080/",
          "height": 985
        }
      },
      "source": [
        "# 導入函式庫\n",
        "import numpy as np  \n",
        "from keras.models import Sequential\n",
        "from keras.datasets import mnist\n",
        "from keras.layers import Dense, Dropout, Activation, Flatten\n",
        "from keras.utils import np_utils  # 用來後續將 label 標籤轉為 one-hot-encoding  \n",
        "from matplotlib import pyplot as plt\n",
        "\n",
        "# 載入 MNIST 資料庫的訓練資料，並自動分為『訓練組』及『測試組』\n",
        "(X_train, y_train), (X_test, y_test) = mnist.load_data()\n",
        "\n",
        "\n",
        "# 建立簡單的線性執行的模型\n",
        "model = Sequential()\n",
        "# Add Input layer, 隱藏層(hidden layer) 有 256個輸出變數\n",
        "model.add(Dense(units=256, input_dim=784, kernel_initializer='normal', activation='relu')) \n",
        "# Add output layer\n",
        "model.add(Dense(units=10, kernel_initializer='normal', activation='softmax'))\n",
        "\n",
        "# 編譯: 選擇損失函數、優化方法及成效衡量方式\n",
        "model.compile(loss='categorical_crossentropy', optimizer='adam', metrics=['accuracy']) \n",
        "\n",
        "# 將 training 的 label 進行 one-hot encoding，例如數字 7 經過 One-hot encoding 轉換後是 0000001000，即第7個值為 1\n",
        "y_TrainOneHot = np_utils.to_categorical(y_train) \n",
        "y_TestOneHot = np_utils.to_categorical(y_test) \n",
        "\n",
        "# 將 training 的 input 資料轉為2維\n",
        "X_train_2D = X_train.reshape(60000, 28*28).astype('float32')  \n",
        "X_test_2D = X_test.reshape(10000, 28*28).astype('float32')  \n",
        "\n",
        "x_Train_norm = X_train_2D/255\n",
        "x_Test_norm = X_test_2D/255\n",
        "\n",
        "# 進行訓練, 訓練過程會存在 train_history 變數中\n",
        "train_history = model.fit(x=x_Train_norm, y=y_TrainOneHot, validation_split=0.2, epochs=10, batch_size=800, verbose=2)  \n",
        "\n",
        "# 顯示訓練成果(分數)\n",
        "scores = model.evaluate(x_Test_norm, y_TestOneHot)  \n",
        "print()  \n",
        "print(\"\\t[Info] Accuracy of testing data = {:2.1f}%\".format(scores[1]*100.0))  \n",
        "\n",
        "# 預測(prediction)\n",
        "X = x_Test_norm[0:10,:]\n",
        "predictions = model.predict_classes(X)\n",
        "# get prediction result\n",
        "print(predictions)\n",
        "\n",
        "# 顯示 第一筆訓練資料的圖形，確認是否正確\n",
        "print(np.shape(X_test))\n",
        "plt.imshow(X_test[0])\n",
        "plt.show() \n",
        "plt.figure()\n",
        "plt.plot(train_history.history['loss'])  \n",
        "plt.plot(train_history.history['val_loss'])  \n",
        "plt.title('Train History')  \n",
        "plt.ylabel('loss')  \n",
        "plt.xlabel('Epoch')  \n",
        "plt.legend(['loss', 'val_loss'], loc='upper left')  \n",
        "plt.show() "
      ],
      "execution_count": 0,
      "outputs": [
        {
          "output_type": "stream",
          "text": [
            "Train on 48000 samples, validate on 12000 samples\n",
            "Epoch 1/10\n",
            " - 3s - loss: 0.7724 - acc: 0.8054 - val_loss: 0.3275 - val_acc: 0.9091\n",
            "Epoch 2/10\n",
            " - 1s - loss: 0.3050 - acc: 0.9148 - val_loss: 0.2528 - val_acc: 0.9301\n",
            "Epoch 3/10\n",
            " - 1s - loss: 0.2418 - acc: 0.9317 - val_loss: 0.2139 - val_acc: 0.9409\n",
            "Epoch 4/10\n",
            " - 1s - loss: 0.2002 - acc: 0.9430 - val_loss: 0.1814 - val_acc: 0.9516\n",
            "Epoch 5/10\n",
            " - 1s - loss: 0.1680 - acc: 0.9519 - val_loss: 0.1620 - val_acc: 0.9552\n",
            "Epoch 6/10\n",
            " - 1s - loss: 0.1441 - acc: 0.9594 - val_loss: 0.1460 - val_acc: 0.9591\n",
            "Epoch 7/10\n",
            " - 1s - loss: 0.1251 - acc: 0.9645 - val_loss: 0.1327 - val_acc: 0.9624\n",
            "Epoch 8/10\n",
            " - 1s - loss: 0.1099 - acc: 0.9695 - val_loss: 0.1243 - val_acc: 0.9642\n",
            "Epoch 9/10\n",
            " - 1s - loss: 0.0968 - acc: 0.9735 - val_loss: 0.1160 - val_acc: 0.9668\n",
            "Epoch 10/10\n",
            " - 1s - loss: 0.0866 - acc: 0.9770 - val_loss: 0.1128 - val_acc: 0.9652\n",
            "10000/10000 [==============================] - 0s 37us/step\n",
            "\n",
            "\t[Info] Accuracy of testing data = 96.9%\n",
            "[7 2 1 0 4 1 4 9 6 9]\n",
            "(10000, 28, 28)\n"
          ],
          "name": "stdout"
        },
        {
          "output_type": "display_data",
          "data": {
            "image/png": "[encoded data removed]",
            "text/plain": [
              "<Figure size 432x288 with 1 Axes>"
            ]
          },
          "metadata": {
            "tags": []
          }
        },
        {
          "output_type": "display_data",
          "data": {
            "image/png": "[encoded data removed]",
            "text/plain": [
              "<Figure size 432x288 with 1 Axes>"
            ]
          },
          "metadata": {
            "tags": []
          }
        }
      ]
    },
    {
      "cell_type": "code",
      "metadata": {
        "id": "CsZHiYIwwOHp",
        "colab_type": "code",
        "outputId": "a73f3186-135b-49f4-aa6a-888f8beec3b0",
        "colab": {
          "base_uri": "https://localhost:8080/",
          "height": 85
        }
      },
      "source": [
        "import tensorflow as tf\n",
        "from tensorflow.examples.tutorials.mnist import input_data\n",
        "mnist = input_data.read_data_sets('mnist', one_hot=True)\n",
        "\n",
        "X_train = mnist.train.images\n",
        "X_test = mnist.test.images\n",
        "Y_train = mnist.train.labels # 這個label是one_hot編碼來表示數字輸出\n",
        "Y_test = mnist.test.labels\n",
        "\n",
        "import numpy as np\n",
        "# print( np.shape(X_train) ) #(55000, 784) 55000 張做過標籤的影像\n",
        "# 需要將784 也就是28*28 的影像降低維度，做reshape\n",
        "images = tf.reshape(X_train, [-1,28,28,1]) # 改變train_x shape to [28,28,1]\n",
        "# print(np.shape(images)) # (55000, 28, 28, 1)\n",
        "\n",
        "\n",
        "# 重新 reshape 所有影像\n",
        "X_train = tf.reshape(mnist.train.images, [-1,28,28,1])\n",
        "X_test = tf.reshape(mnist.test.images, [-1,28,28,1])\n",
        "\n",
        "\n",
        "num_outputs = 10 # 0-9 digits\n",
        "num_inputs = 784 # total pixels\n",
        "\n",
        "import keras\n",
        "from keras.models import Sequential\n",
        "from keras.layers import Dense\n",
        "from keras.optimizers import SGD\n",
        "\n",
        "#Your code here\n",
        "\n"
      ],
      "execution_count": 0,
      "outputs": [
        {
          "output_type": "stream",
          "text": [
            "Extracting mnist/train-images-idx3-ubyte.gz\n",
            "Extracting mnist/train-labels-idx1-ubyte.gz\n",
            "Extracting mnist/t10k-images-idx3-ubyte.gz\n",
            "Extracting mnist/t10k-labels-idx1-ubyte.gz\n"
          ],
          "name": "stdout"
        }
      ]
    },
    {
      "cell_type": "markdown",
      "metadata": {
        "id": "3fobacTDza2h",
        "colab_type": "text"
      },
      "source": [
        "第二題：利用Keras，設計一個CNN網路，訓練資料同樣是MNIST"
      ]
    },
    {
      "cell_type": "markdown",
      "metadata": {
        "id": "51g_WMzIZiWL",
        "colab_type": "text"
      },
      "source": [
        "[範例](https://github.com/keras-team/keras/blob/master/examples/mnist_cnn.py) 做修改\n",
        "\n",
        "- learning_rate = 0.01\n",
        "- n_epochs = 10\n",
        "- batch_size = 100\n",
        "- layer1 filter = 32\n",
        "- layer2 filter = 64\n",
        "- aleast droup once 0.5 50%"
      ]
    },
    {
      "cell_type": "code",
      "metadata": {
        "id": "B2PI5jvGZewC",
        "colab_type": "code",
        "outputId": "2af14987-2e6b-4c35-dd70-7972dfa05bd3",
        "colab": {
          "base_uri": "https://localhost:8080/",
          "height": 1000
        }
      },
      "source": [
        "'''Trains a simple convnet on the MNIST dataset.\n",
        "Gets to 99.25% test accuracy after 12 epochs\n",
        "(there is still a lot of margin for parameter tuning).\n",
        "16 seconds per epoch on a GRID K520 GPU.\n",
        "'''\n",
        "\n",
        "from __future__ import print_function\n",
        "import keras\n",
        "from keras.datasets import mnist\n",
        "from keras.models import Sequential\n",
        "from keras.layers import Dense, Dropout, Flatten\n",
        "from keras.layers import Conv2D, MaxPooling2D\n",
        "from keras import backend as K\n",
        "\n",
        "batch_size = 100 # batch size\n",
        "num_classes = 10\n",
        "epochs = 10\n",
        "\n",
        "# input image dimensions\n",
        "img_rows, img_cols = 28, 28\n",
        "\n",
        "# the data, split between train and test sets\n",
        "(x_train, y_train), (x_test, y_test) = mnist.load_data()\n",
        "\n",
        "if K.image_data_format() == 'channels_first':\n",
        "    x_train = x_train.reshape(x_train.shape[0], 1, img_rows, img_cols)\n",
        "    x_test = x_test.reshape(x_test.shape[0], 1, img_rows, img_cols)\n",
        "    input_shape = (1, img_rows, img_cols)\n",
        "else:\n",
        "    x_train = x_train.reshape(x_train.shape[0], img_rows, img_cols, 1)\n",
        "    x_test = x_test.reshape(x_test.shape[0], img_rows, img_cols, 1)\n",
        "    input_shape = (img_rows, img_cols, 1)\n",
        "\n",
        "x_train = x_train.astype('float32')\n",
        "x_test = x_test.astype('float32')\n",
        "x_train /= 255\n",
        "x_test /= 255\n",
        "print('x_train shape:', x_train.shape)\n",
        "print(x_train.shape[0], 'train samples')\n",
        "print(x_test.shape[0], 'test samples')\n",
        "\n",
        "# convert class vectors to binary class matrices\n",
        "y_train = keras.utils.to_categorical(y_train, num_classes)\n",
        "y_test = keras.utils.to_categorical(y_test, num_classes)\n",
        "\n",
        "model = Sequential()\n",
        "model.add(Conv2D(32, kernel_size=(3, 3), # filter 32\n",
        "                 activation='relu',\n",
        "                 input_shape=input_shape))\n",
        "model.add(Conv2D(64, (3, 3), activation='relu')) # filter 64\n",
        "model.add(MaxPooling2D(pool_size=(2, 2)))\n",
        "model.add(Dropout(0.25))\n",
        "model.add(Flatten())\n",
        "model.add(Dense(128, activation='relu'))\n",
        "model.add(Dropout(0.5)) # Dropout 0.5\n",
        "model.add(Dense(num_classes, activation='softmax'))\n",
        "\n",
        "# keras.optimizers.Adam(lr=0.001, beta_1=0.9, beta_2=0.999, epsilon=None, decay=0.0, amsgrad=False)\n",
        "# set learning rate 0.01\n",
        "model.compile(loss=keras.losses.categorical_crossentropy,\n",
        "              optimizer=keras.optimizers.Adam(lr=0.001, beta_1=0.9, beta_2=0.999, epsilon=None, decay=0.0, amsgrad=False),\n",
        "              # optimizer=keras.optimizers.Adadelta(),\n",
        "              metrics=['accuracy'])\n",
        "\n",
        "train_history = model.fit(x_train, y_train,\n",
        "          batch_size=batch_size,\n",
        "          epochs=epochs,\n",
        "          verbose=1,\n",
        "          validation_data=(x_test, y_test))\n",
        "score = model.evaluate(x_test, y_test, verbose=0)\n",
        "print('Test loss:', score[0])\n",
        "print('Test accuracy:', score[1])\n",
        "\n",
        "\n",
        "# 預測(prediction)\n",
        "\n",
        "X = x_test[0:10,:]\n",
        "predictions = model.predict_classes(X)\n",
        "print(predictions)\n",
        "\n",
        "# 顯示 第一筆訓練資料的圖形，確認是否正確\n",
        "plt.imshow(x_test[0][:,:,0])\n",
        "plt.show() \n",
        "plt.figure()\n",
        "plt.plot(train_history.history['loss'])  \n",
        "plt.plot(train_history.history['val_loss'])  \n",
        "plt.title('Train History')  \n",
        "plt.ylabel('loss')  \n",
        "plt.xlabel('Epoch')  \n",
        "plt.legend(['loss', 'val_loss'], loc='upper left')  \n",
        "plt.show() "
      ],
      "execution_count": 0,
      "outputs": [
        {
          "output_type": "stream",
          "text": [
            "x_train shape: (60000, 28, 28, 1)\n",
            "60000 train samples\n",
            "10000 test samples\n",
            "Train on 60000 samples, validate on 10000 samples\n",
            "Epoch 1/10\n",
            "60000/60000 [==============================] - 152s 3ms/step - loss: 0.2184 - acc: 0.9339 - val_loss: 0.0517 - val_acc: 0.9829\n",
            "Epoch 2/10\n",
            "60000/60000 [==============================] - 149s 2ms/step - loss: 0.0812 - acc: 0.9755 - val_loss: 0.0406 - val_acc: 0.9869\n",
            "Epoch 3/10\n",
            "60000/60000 [==============================] - 148s 2ms/step - loss: 0.0616 - acc: 0.9816 - val_loss: 0.0335 - val_acc: 0.9889\n",
            "Epoch 4/10\n",
            "60000/60000 [==============================] - 148s 2ms/step - loss: 0.0492 - acc: 0.9847 - val_loss: 0.0307 - val_acc: 0.9894\n",
            "Epoch 5/10\n",
            "60000/60000 [==============================] - 147s 2ms/step - loss: 0.0458 - acc: 0.9860 - val_loss: 0.0267 - val_acc: 0.9914\n",
            "Epoch 6/10\n",
            "60000/60000 [==============================] - 148s 2ms/step - loss: 0.0393 - acc: 0.9877 - val_loss: 0.0267 - val_acc: 0.9920\n",
            "Epoch 7/10\n",
            "60000/60000 [==============================] - 148s 2ms/step - loss: 0.0344 - acc: 0.9892 - val_loss: 0.0293 - val_acc: 0.9913\n",
            "Epoch 8/10\n",
            "60000/60000 [==============================] - 149s 2ms/step - loss: 0.0306 - acc: 0.9903 - val_loss: 0.0262 - val_acc: 0.9929\n",
            "Epoch 9/10\n",
            "60000/60000 [==============================] - 148s 2ms/step - loss: 0.0278 - acc: 0.9908 - val_loss: 0.0279 - val_acc: 0.9915\n",
            "Epoch 10/10\n",
            "60000/60000 [==============================] - 147s 2ms/step - loss: 0.0249 - acc: 0.9916 - val_loss: 0.0272 - val_acc: 0.9917\n",
            "Test loss: 0.02718125330242947\n",
            "Test accuracy: 0.9917\n",
            "[7 2 1 0 4 1 4 9 5 9]\n"
          ],
          "name": "stdout"
        },
        {
          "output_type": "display_data",
          "data": {
            "image/png": "[encoded data removed]",
            "text/plain": [
              "<Figure size 432x288 with 1 Axes>"
            ]
          },
          "metadata": {
            "tags": []
          }
        },
        {
          "output_type": "display_data",
          "data": {
            "image/png": "[encoded data removed]",
            "text/plain": [
              "<Figure size 432x288 with 1 Axes>"
            ]
          },
          "metadata": {
            "tags": []
          }
        }
      ]
    },
    {
      "cell_type": "code",
      "metadata": {
        "id": "fA6FKYl-z5gD",
        "colab_type": "code",
        "outputId": "1a6891b1-f16f-4a21-c128-d057362e3c48",
        "colab": {
          "base_uri": "https://localhost:8080/",
          "height": 544
        }
      },
      "source": [
        "import tensorflow as tf\n",
        "from tensorflow.examples.tutorials.mnist import input_data\n",
        "mnist = input_data.read_data_sets('mnist', one_hot=True)\n",
        "\n",
        "X_train = mnist.train.images\n",
        "X_test = mnist.test.images\n",
        "Y_train = mnist.train.labels # 這個label是one_hot編碼來表示數字輸出\n",
        "Y_test = mnist.test.labels\n",
        "\n",
        "# 重新 reshape 所有影像\n",
        "X_train = tf.reshape(mnist.train.images, [-1,28,28,1])\n",
        "X_test = tf.reshape(mnist.test.images, [-1,28,28,1])\n",
        "\n",
        "import keras\n",
        "from keras.models import Sequential\n",
        "from keras.layers import Conv2D,MaxPooling2D, Dense, Flatten, Reshape\n",
        "from keras.optimizers import SGD\n",
        "\n",
        "n_filters=[32,64] # 設計兩層的conv網路的意思吧！\n",
        "# 所以有兩個（cnn + poolmax），50000張分別進入(28,28,1) 進入filterx32 會變成(28，28，32), \n",
        "# poolingmax 假設strike不變所以（2的話會做亞採樣去用遮罩兩個找一次會變成（14,14,32））\n",
        "# 然後結果去再做CNN（28, 28, 32） -->  (28,28,32*64)\n",
        "# 然後又沒有說poolingmax要多少 strike = 1\n",
        "# 然後做Dense 全連接層（fully connected） 收集特徵\n",
        "# 再來沒有說dropout多少所以不做\n",
        "# 平坦化（28*28*32*64,）--> reshape --> 輸出\n",
        "\n",
        "learning_rate = 0.01\n",
        "n_epochs = 10\n",
        "batch_size = 100\n",
        "\n",
        "#Your code here\n",
        "\n",
        "model = Sequential()  \n",
        "# Create CN layer 1  \n",
        "model.add(Conv2D(filters=32,  \n",
        "                 kernel_size=(5,5),  \n",
        "                 padding='same',  # same， 所以影像不會補零，遮罩（5，5）可以罩兩個零（padding=2時）\n",
        "                 input_shape=(28,28,1),  \n",
        "                 activation='relu')) # activation也可以用sigmoid  sigma函數 relu比較陡峭\n",
        "# Create Max-Pool 1  \n",
        "model.add(MaxPooling2D(pool_size=(2,2)))  \n",
        "  \n",
        "# Create CN layer 2  \n",
        "model.add(Conv2D(filters=64,  \n",
        "                 kernel_size=(5,5),  \n",
        "                 padding='same',  \n",
        "                 input_shape=(28,28,1),  \n",
        "                 activation='relu'))  \n",
        "  \n",
        "# Create Max-Pool 2  \n",
        "model.add(MaxPooling2D(pool_size=(2,2)))  \n",
        "  \n",
        "# Add Dropout layer  \n",
        "# model.add(Dropout(0.25))  \n",
        "\n",
        "model.add(Flatten())  \n",
        "\n",
        "# model.add(Dense(128, activation='relu'))  \n",
        "# model.add(Dropout(0.5))  \n",
        "\n",
        "# model.add(Dense(10, activation='softmax'))  \n",
        "\n",
        "model.summary()  \n",
        "print(\"END\")  \n",
        "\n"
      ],
      "execution_count": 0,
      "outputs": [
        {
          "output_type": "stream",
          "text": [
            "Extracting mnist/train-images-idx3-ubyte.gz\n",
            "Extracting mnist/train-labels-idx1-ubyte.gz\n",
            "Extracting mnist/t10k-images-idx3-ubyte.gz\n",
            "Extracting mnist/t10k-labels-idx1-ubyte.gz\n",
            "WARNING:tensorflow:From /usr/local/lib/python3.6/dist-packages/keras/backend/tensorflow_backend.py:66: The name tf.get_default_graph is deprecated. Please use tf.compat.v1.get_default_graph instead.\n",
            "\n",
            "WARNING:tensorflow:From /usr/local/lib/python3.6/dist-packages/keras/backend/tensorflow_backend.py:541: The name tf.placeholder is deprecated. Please use tf.compat.v1.placeholder instead.\n",
            "\n",
            "WARNING:tensorflow:From /usr/local/lib/python3.6/dist-packages/keras/backend/tensorflow_backend.py:4432: The name tf.random_uniform is deprecated. Please use tf.random.uniform instead.\n",
            "\n",
            "WARNING:tensorflow:From /usr/local/lib/python3.6/dist-packages/keras/backend/tensorflow_backend.py:4267: The name tf.nn.max_pool is deprecated. Please use tf.nn.max_pool2d instead.\n",
            "\n",
            "Model: \"sequential_1\"\n",
            "_________________________________________________________________\n",
            "Layer (type)                 Output Shape              Param #   \n",
            "=================================================================\n",
            "conv2d_1 (Conv2D)            (None, 28, 28, 32)        832       \n",
            "_________________________________________________________________\n",
            "max_pooling2d_1 (MaxPooling2 (None, 14, 14, 32)        0         \n",
            "_________________________________________________________________\n",
            "conv2d_2 (Conv2D)            (None, 14, 14, 64)        51264     \n",
            "_________________________________________________________________\n",
            "max_pooling2d_2 (MaxPooling2 (None, 7, 7, 64)          0         \n",
            "_________________________________________________________________\n",
            "flatten_1 (Flatten)          (None, 3136)              0         \n",
            "=================================================================\n",
            "Total params: 52,096\n",
            "Trainable params: 52,096\n",
            "Non-trainable params: 0\n",
            "_________________________________________________________________\n",
            "END\n"
          ],
          "name": "stdout"
        }
      ]
    },
    {
      "cell_type": "markdown",
      "metadata": {
        "id": "dUaAtkWlzuNW",
        "colab_type": "text"
      },
      "source": [
        "# 使用tensorflow\n",
        "\n",
        "[Colab使用tensorflow完成CNN辨識 relu](https://colab.research.google.com/drive/13coYGpGLmqRPgcW9qbhlDt_NPlOStRUV)\n"
      ]
    }
  ]
}